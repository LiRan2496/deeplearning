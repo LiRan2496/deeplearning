{
  "nbformat": 4,
  "nbformat_minor": 0,
  "metadata": {
    "colab": {
      "name": "convolution_visualize.ipynb",
      "version": "0.3.2",
      "provenance": [],
      "include_colab_link": true
    },
    "kernelspec": {
      "name": "python3",
      "display_name": "Python 3"
    }
  },
  "cells": [
    {
      "cell_type": "markdown",
      "metadata": {
        "id": "view-in-github",
        "colab_type": "text"
      },
      "source": [
        "<a href=\"https://colab.research.google.com/github/LiRan2496/deeplearning/blob/master/convolution_visualize.ipynb\" target=\"_parent\"><img src=\"https://colab.research.google.com/assets/colab-badge.svg\" alt=\"Open In Colab\"/></a>"
      ]
    },
    {
      "cell_type": "code",
      "metadata": {
        "id": "1R8jbi2WUilQ",
        "colab_type": "code",
        "colab": {
          "base_uri": "https://localhost:8080/",
          "height": 50
        },
        "outputId": "23095d7b-ad1b-4d06-ece7-f5cf7ed865e3"
      },
      "source": [
        "import keras\n",
        "import tensorflow as tf\n",
        "print(tf.__version__)\n",
        "import cv2\n"
      ],
      "execution_count": 1,
      "outputs": [
        {
          "output_type": "stream",
          "text": [
            "Using TensorFlow backend.\n"
          ],
          "name": "stderr"
        },
        {
          "output_type": "stream",
          "text": [
            "1.13.1\n"
          ],
          "name": "stdout"
        }
      ]
    },
    {
      "cell_type": "markdown",
      "metadata": {
        "id": "XeNL9sAcVn7I",
        "colab_type": "text"
      },
      "source": [
        "创建回调函数 当loss损失小于0.4时 在epoch结束后  停止训练"
      ]
    },
    {
      "cell_type": "code",
      "metadata": {
        "id": "0d2QOlBSU4Uw",
        "colab_type": "code",
        "colab": {}
      },
      "source": [
        "class myCallback(tf.keras.callbacks.Callback):\n",
        "  def on_epoch_end(self, epoch, logs={}):\n",
        "    if logs.get('loss') < 0.4:\n",
        "      print('\\nReached 60% accuracy so cancelling training!')\n",
        "      self.model.stop_training = True\n",
        "callback = myCallback()"
      ],
      "execution_count": 0,
      "outputs": []
    },
    {
      "cell_type": "code",
      "metadata": {
        "id": "abQUR3q2U8qG",
        "colab_type": "code",
        "colab": {
          "base_uri": "https://localhost:8080/",
          "height": 50
        },
        "outputId": "2efc0d0c-f895-4642-aa0a-bc983c208636"
      },
      "source": [
        " fashion_mnist = keras.datasets.mnist\n",
        " (x_train, y_train), (x_test, y_test) = fashion_mnist.load_data()\n"
      ],
      "execution_count": 3,
      "outputs": [
        {
          "output_type": "stream",
          "text": [
            "Downloading data from https://s3.amazonaws.com/img-datasets/mnist.npz\n",
            "11493376/11490434 [==============================] - 0s 0us/step\n"
          ],
          "name": "stdout"
        }
      ]
    },
    {
      "cell_type": "code",
      "metadata": {
        "id": "X7_ctSCDVD3x",
        "colab_type": "code",
        "colab": {}
      },
      "source": [
        "x_train = x_train.reshape(60000, 28, 28, 1)\n",
        "x_test = x_test.reshape(10000, 28, 28, 1)\n"
      ],
      "execution_count": 0,
      "outputs": []
    },
    {
      "cell_type": "code",
      "metadata": {
        "id": "BK-CYgdfVG09",
        "colab_type": "code",
        "colab": {}
      },
      "source": [
        "import matplotlib.pyplot as plt\n",
        "\n",
        "print(x_train.shape)\n",
        "print(x_train[0])\n",
        "# plt.imshow(x_train[0])\n",
        "print(x_train[0])\n",
        "\n",
        "# print(y_train[0])\n"
      ],
      "execution_count": 0,
      "outputs": []
    },
    {
      "cell_type": "code",
      "metadata": {
        "id": "XiMG4OTHWCVP",
        "colab_type": "code",
        "colab": {}
      },
      "source": [
        "数据预处理： 将每个像素值缩放到 0-1 范围内"
      ],
      "execution_count": 0,
      "outputs": []
    },
    {
      "cell_type": "code",
      "metadata": {
        "id": "lcSIa5ycVKu9",
        "colab_type": "code",
        "colab": {}
      },
      "source": [
        "x_train = x_train / 255.0\n",
        "x_test = x_test / 255.0"
      ],
      "execution_count": 0,
      "outputs": []
    },
    {
      "cell_type": "code",
      "metadata": {
        "id": "cj8uy5zcWLAx",
        "colab_type": "code",
        "colab": {}
      },
      "source": [
        "定义 model模型  需要注意的是在第一层 须声明input_shape， 否则模型识别不了输入层"
      ],
      "execution_count": 0,
      "outputs": []
    },
    {
      "cell_type": "code",
      "metadata": {
        "id": "jAW-bMzGVSdo",
        "colab_type": "code",
        "colab": {}
      },
      "source": [
        "model = keras.Sequential([\n",
        "    keras.layers.Conv2D(64, (3, 3), activation = 'relu', input_shape=( 28, 28, 1)),\n",
        "    keras.layers.MaxPooling2D(2, 2),\n",
        "    keras.layers.Conv2D(64, (3, 3), activation = 'relu'), \n",
        "    keras.layers.MaxPooling2D(2, 2),\n",
        "\n",
        "    keras.layers.Flatten(),\n",
        "    keras.layers.Dense(128, activation='relu'),\n",
        "    keras.layers.Dense(10, activation= 'softmax')\n",
        "])"
      ],
      "execution_count": 0,
      "outputs": []
    },
    {
      "cell_type": "code",
      "metadata": {
        "id": "RLOu3kIyVZSU",
        "colab_type": "code",
        "colab": {}
      },
      "source": [
        "model.summary()"
      ],
      "execution_count": 0,
      "outputs": []
    },
    {
      "cell_type": "code",
      "metadata": {
        "id": "JngCLn6zVcqr",
        "colab_type": "code",
        "colab": {}
      },
      "source": [
        "model.compile(optimizer = tf.train.AdamOptimizer(), loss = 'sparse_categorical_crossentropy')\n",
        "model.fit(x_train, y_train, epochs = 5, callbacks = [callback])"
      ],
      "execution_count": 0,
      "outputs": []
    },
    {
      "cell_type": "code",
      "metadata": {
        "id": "beYcGzhUVf93",
        "colab_type": "code",
        "colab": {
          "base_uri": "https://localhost:8080/",
          "height": 50
        },
        "outputId": "cbd5df8f-131a-4956-dfe7-fefb404a4353"
      },
      "source": [
        "model.evaluate(x_test, y_test)"
      ],
      "execution_count": 9,
      "outputs": [
        {
          "output_type": "stream",
          "text": [
            "10000/10000 [==============================] - 5s 499us/step\n"
          ],
          "name": "stdout"
        },
        {
          "output_type": "execute_result",
          "data": {
            "text/plain": [
              "0.038616994412476194"
            ]
          },
          "metadata": {
            "tags": []
          },
          "execution_count": 9
        }
      ]
    },
    {
      "cell_type": "code",
      "metadata": {
        "id": "7qBcqrc2Wj0E",
        "colab_type": "code",
        "colab": {}
      },
      "source": [
        "创建新的模型，这里的Model类 类似于Sequential类，但不同的是 Model类可以有多个输入层和多个输出层\n",
        "在这里Model模型的输出层 为原始模型的前4个输出层，即卷积的激活层以及池化层 \n",
        "通过 plt.subplots(3, 4) 定义12个 subplot 对象， 并以以arr的形式返回\n",
        "绘制每张图像 经过前4个layer的结果 CONVELUTION_NUMBER 选择了过滤某一个通道的结果\n"
      ],
      "execution_count": 0,
      "outputs": []
    },
    {
      "cell_type": "code",
      "metadata": {
        "id": "ESse5Cp0VksJ",
        "colab_type": "code",
        "colab": {
          "base_uri": "https://localhost:8080/",
          "height": 286
        },
        "outputId": "1ab25f4e-ccc9-41f7-a820-ee9ffbb56d01"
      },
      "source": [
        "layer_outputs = [layer.output for layer in model.layers]\n",
        "activation_model = keras.models.Model(inputs=model.input, outputs=layer_outputs)\n",
        "f, axarr = plt.subplots(3,4)\n",
        "print(axarr.shape)\n",
        "FIRST_IMAGE = 0\n",
        "SECOND_IMAGE = 20\n",
        "THIRD_IMGAE = 2\n",
        "CONVELUTION_NUMBER = 3\n",
        "for x in range(4):\n",
        "  f1 = activation_model.predict(x_test[FIRST_IMAGE].reshape(1, 28, 28, 1))[x]\n",
        "  axarr[0][x].imshow(f1[0, :, :, CONVELUTION_NUMBER], cmap='inferno')\n",
        "  axarr[0][x].grid(False)\n",
        "  f2 = activation_model.predict(x_test[SECOND_IMAGE].reshape(1, 28, 28, 1))[x]\n",
        "  axarr[1][x].imshow(f2[0, :, :, CONVELUTION_NUMBER], cmap='inferno')\n",
        "  axarr[1,x].grid(False)\n",
        "  f3 = activation_model.predict(x_test[THIRD_IMGAE].reshape(1, 28, 28, 1))[x]\n",
        "  axarr[2,x].imshow(f3[0, :, :, CONVELUTION_NUMBER], cmap='inferno')\n",
        "  axarr[2,x].grid(False)\n",
        " "
      ],
      "execution_count": 10,
      "outputs": [
        {
          "output_type": "stream",
          "text": [
            "(3, 4)\n"
          ],
          "name": "stdout"
        },
        {
          "output_type": "display_data",
          "data": {
            "image/png": "[encoded data removed]",
            "text/plain": [
              "<Figure size 432x288 with 12 Axes>"
            ]
          },
          "metadata": {
            "tags": []
          }
        }
      ]
    }
  ]
}