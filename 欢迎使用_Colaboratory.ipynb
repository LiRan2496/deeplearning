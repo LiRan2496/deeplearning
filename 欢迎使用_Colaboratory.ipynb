{
  "nbformat": 4,
  "nbformat_minor": 0,
  "metadata": {
    "colab": {
      "name": "欢迎使用 Colaboratory",
      "version": "0.3.2",
      "provenance": [],
      "collapsed_sections": [],
      "toc_visible": true,
      "include_colab_link": true
    },
    "kernelspec": {
      "display_name": "Python 3",
      "name": "python3"
    }
  },
  "cells": [
    {
      "cell_type": "markdown",
      "metadata": {
        "id": "view-in-github",
        "colab_type": "text"
      },
      "source": [
        "<a href=\"https://colab.research.google.com/github/LiRan2496/deeplearning/blob/liran/%E6%AC%A2%E8%BF%8E%E4%BD%BF%E7%94%A8_Colaboratory.ipynb\" target=\"_parent\"><img src=\"https://colab.research.google.com/assets/colab-badge.svg\" alt=\"Open In Colab\"/></a>"
      ]
    },
    {
      "cell_type": "markdown",
      "metadata": {
        "colab_type": "text",
        "id": "9J7p406abzgl"
      },
      "source": [
        "<p><img height=\"45px\" src=\"https://colab.research.google.com/img/colab_favicon.ico\" align=\"left\" hspace=\"10px\" vspace=\"0px\"></p>\n",
        "\n",
        "<h1>欢迎使用 Colaboratory！</h1>\n",
        "\n",
        "\n",
        "Colaboratory 是一个免费的 Jupyter 笔记本环境，不需要进行任何设置就可以使用，并且完全在云端运行。\n",
        "\n",
        "借助 Colaboratory，您可以编写和执行代码、保存和共享分析结果，以及利用强大的计算资源，所有这些都可通过浏览器免费使用。"
      ]
    },
    {
      "cell_type": "code",
      "metadata": {
        "cellView": "form",
        "colab_type": "code",
        "id": "xitplqMNk_Hc",
        "colab": {}
      },
      "source": [
        "#@title Colaboratory 简介\n",
        "#@markdown 下面这个时长 3 分钟的视频概述了 Colaboratory 的主要功能：\n",
        "from IPython.display import YouTubeVideo\n",
        "YouTubeVideo('inN8seMm7UI', width=600, height=400)"
      ],
      "execution_count": 0,
      "outputs": []
    },
    {
      "cell_type": "code",
      "metadata": {
        "id": "_7SpUMIbk6_8",
        "colab_type": "code",
        "colab": {}
      },
      "source": [
        ""
      ],
      "execution_count": 0,
      "outputs": []
    },
    {
      "cell_type": "code",
      "metadata": {
        "id": "qtwtSXY_k-Ua",
        "colab_type": "code",
        "colab": {
          "base_uri": "https://localhost:8080/",
          "height": 50
        },
        "outputId": "49d7f771-f624-432f-ae47-3862bb867634"
      },
      "source": [
        "import keras\n",
        "import tensorflow as tf\n",
        "print(tf.__version__)\n",
        "import cv2\n"
      ],
      "execution_count": 4,
      "outputs": [
        {
          "output_type": "stream",
          "text": [
            "Using TensorFlow backend.\n"
          ],
          "name": "stderr"
        },
        {
          "output_type": "stream",
          "text": [
            "1.13.1\n"
          ],
          "name": "stdout"
        }
      ]
    },
    {
      "cell_type": "code",
      "metadata": {
        "id": "sBVdYEhdudBy",
        "colab_type": "code",
        "colab": {}
      },
      "source": [
        "class myCallback(tf.keras.callbacks.Callback):\n",
        "  def on_epoch_end(self, epoch, logs={}):\n",
        "    if logs.get('loss') < 0.4:\n",
        "      print('\\nReached 60% accuracy so cancelling training!')\n",
        "      self.model.stop_training = True\n",
        "callback = myCallback()"
      ],
      "execution_count": 0,
      "outputs": []
    },
    {
      "cell_type": "code",
      "metadata": {
        "id": "3BAEeEAOlTHJ",
        "colab_type": "code",
        "colab": {
          "base_uri": "https://localhost:8080/",
          "height": 50
        },
        "outputId": "17150cd0-2c21-41ee-bfbc-abc00a78cd08"
      },
      "source": [
        " fashion_mnist = keras.datasets.mnist\n",
        " (x_train, y_train), (x_test, y_test) = fashion_mnist.load_data()\n",
        "\n"
      ],
      "execution_count": 6,
      "outputs": [
        {
          "output_type": "stream",
          "text": [
            "Downloading data from https://s3.amazonaws.com/img-datasets/mnist.npz\n",
            "11493376/11490434 [==============================] - 1s 0us/step\n"
          ],
          "name": "stdout"
        }
      ]
    },
    {
      "cell_type": "code",
      "metadata": {
        "id": "DG9HOGWKF2LB",
        "colab_type": "code",
        "colab": {}
      },
      "source": [
        "x_train = x_train.reshape(60000, 28, 28, 1)\n",
        "x_test = x_test.reshape(10000, 28, 28, 1)\n"
      ],
      "execution_count": 0,
      "outputs": []
    },
    {
      "cell_type": "code",
      "metadata": {
        "id": "x3qPdTTRqrOj",
        "colab_type": "code",
        "colab": {},
        "cellView": "code"
      },
      "source": [
        "\n",
        "import matplotlib.pyplot as plt\n",
        "\n",
        "print(x_train.shape)\n",
        "print(x_train[0])\n",
        "# plt.imshow(x_train[0])\n",
        "print(x_train[0])\n",
        "\n",
        "# print(y_train[0])\n",
        "\n"
      ],
      "execution_count": 0,
      "outputs": []
    },
    {
      "cell_type": "code",
      "metadata": {
        "id": "SuNY_MO5sFmD",
        "colab_type": "code",
        "colab": {}
      },
      "source": [
        "x_train = x_train / 255.0\n",
        "x_test = x_test / 255.0"
      ],
      "execution_count": 0,
      "outputs": []
    },
    {
      "cell_type": "code",
      "metadata": {
        "id": "tDrAVFORoyPR",
        "colab_type": "code",
        "colab": {}
      },
      "source": [
        "model = keras.Sequential([\n",
        "    keras.layers.Conv2D(64, (3, 3), activation = 'relu', input_shape=( 28, 28, 1)),\n",
        "    keras.layers.MaxPooling2D(2, 2),\n",
        "    keras.layers.Conv2D(64, (3, 3), activation = 'relu'), \n",
        "    keras.layers.MaxPooling2D(2, 2),\n",
        "\n",
        "    keras.layers.Flatten(),\n",
        "    keras.layers.Dense(128, activation='relu'),\n",
        "    keras.layers.Dense(10, activation= 'softmax')\n",
        "])"
      ],
      "execution_count": 0,
      "outputs": []
    },
    {
      "cell_type": "code",
      "metadata": {
        "id": "8G1AQ602y2_t",
        "colab_type": "code",
        "colab": {}
      },
      "source": [
        "model.summary()"
      ],
      "execution_count": 0,
      "outputs": []
    },
    {
      "cell_type": "code",
      "metadata": {
        "id": "Xsdq_iypqBzV",
        "colab_type": "code",
        "colab": {
          "base_uri": "https://localhost:8080/",
          "height": 171
        },
        "outputId": "8865bd5a-9885-47bd-c67e-1ceb4170fd91"
      },
      "source": [
        "model.compile(optimizer = tf.train.AdamOptimizer(), loss = 'sparse_categorical_crossentropy')\n",
        "model.fit(x_train, y_train, epochs = 5, callbacks = [callback])"
      ],
      "execution_count": 12,
      "outputs": [
        {
          "output_type": "stream",
          "text": [
            "WARNING:tensorflow:From /usr/local/lib/python3.6/dist-packages/tensorflow/python/ops/math_ops.py:3066: to_int32 (from tensorflow.python.ops.math_ops) is deprecated and will be removed in a future version.\n",
            "Instructions for updating:\n",
            "Use tf.cast instead.\n",
            "Epoch 1/5\n",
            "60000/60000 [==============================] - 101s 2ms/step - loss: 0.1233\n",
            "\n",
            "Reached 60% accuracy so cancelling training!\n"
          ],
          "name": "stdout"
        },
        {
          "output_type": "execute_result",
          "data": {
            "text/plain": [
              "<keras.callbacks.History at 0x7fac06c944e0>"
            ]
          },
          "metadata": {
            "tags": []
          },
          "execution_count": 12
        }
      ]
    },
    {
      "cell_type": "code",
      "metadata": {
        "id": "QyvKtxGds8K0",
        "colab_type": "code",
        "colab": {
          "base_uri": "https://localhost:8080/",
          "height": 50
        },
        "outputId": "dcec3a4a-fad5-404e-f1ce-e1e50ec6d656"
      },
      "source": [
        "model.evaluate(x_test, y_test)"
      ],
      "execution_count": 13,
      "outputs": [
        {
          "output_type": "stream",
          "text": [
            "10000/10000 [==============================] - 5s 470us/step\n"
          ],
          "name": "stdout"
        },
        {
          "output_type": "execute_result",
          "data": {
            "text/plain": [
              "0.041140835841133955"
            ]
          },
          "metadata": {
            "tags": []
          },
          "execution_count": 13
        }
      ]
    },
    {
      "cell_type": "code",
      "metadata": {
        "id": "_g4DV4KFQjgc",
        "colab_type": "code",
        "colab": {
          "base_uri": "https://localhost:8080/",
          "height": 286
        },
        "outputId": "a5db3d54-bd81-4e56-c75c-5c2dc7b8bad3"
      },
      "source": [
        "layer_outputs = [layer.output for layer in model.layers]\n",
        "activation_model = keras.models.Model(inputs=model.input, outputs=layer_outputs)\n",
        "f, axarr = plt.subplots(3,4)\n",
        "print(axarr.shape)\n",
        "FIRST_IMAGE = 0\n",
        "SECOND_IMAGE = 20\n",
        "THIRD_IMGAE = 2\n",
        "CONVELUTION_NUMBER = 3\n",
        "for x in range(4):\n",
        "  f1 = activation_model.predict(x_test[FIRST_IMAGE].reshape(1, 28, 28, 1))[x]\n",
        "  axarr[0][x].imshow(f1[0, :, :, CONVELUTION_NUMBER], cmap='inferno')\n",
        "  axarr[0][x].grid(False)\n",
        "  f2 = activation_model.predict(x_test[SECOND_IMAGE].reshape(1, 28, 28, 1))[x]\n",
        "  axarr[1][x].imshow(f2[0, :, :, CONVELUTION_NUMBER], cmap='inferno')\n",
        "  axarr[1,x].grid(False)\n",
        "  f3 = activation_model.predict(x_test[THIRD_IMGAE].reshape(1, 28, 28, 1))[x]\n",
        "  axarr[2,x].imshow(f3[0, :, :, CONVELUTION_NUMBER], cmap='inferno')\n",
        "  axarr[2,x].grid(False)\n",
        " \n",
        "  "
      ],
      "execution_count": 23,
      "outputs": [
        {
          "output_type": "stream",
          "text": [
            "(3, 4)\n"
          ],
          "name": "stdout"
        },
        {
          "output_type": "display_data",
          "data": {
            "image/png": "[encoded data removed]",
            "text/plain": [
              "<Figure size 432x288 with 12 Axes>"
            ]
          },
          "metadata": {
            "tags": []
          }
        }
      ]
    },
    {
      "cell_type": "markdown",
      "metadata": {
        "colab_type": "text",
        "id": "GJBs_flRovLc"
      },
      "source": [
        "## 开始使用\n",
        "\n",
        "您正在阅读的文档是托管在 Colaboratory 中的 [Jupyter 笔记本](https://jupyter.org)。它并非静态页面，而是一个可让您以 Python 和其他语言编写和执行代码的互动环境。\n",
        "\n",
        "例如，以下**代码单元格**包含一个简短的 Python 脚本，该脚本会计算值、将其存储在变量中并输出结果："
      ]
    },
    {
      "cell_type": "code",
      "metadata": {
        "colab_type": "code",
        "id": "gJr_9dXGpJ05",
        "outputId": "5626194c-e802-4293-942d-2908885c3c1f",
        "colab": {
          "height": 35
        }
      },
      "source": [
        "一天的秒数 = 24 * 60 * 60\n",
        "一天的秒数"
      ],
      "execution_count": 0,
      "outputs": [
        {
          "output_type": "execute_result",
          "data": {
            "text/plain": [
              "86400"
            ]
          },
          "metadata": {
            "tags": []
          },
          "execution_count": 0
        }
      ]
    },
    {
      "cell_type": "markdown",
      "metadata": {
        "colab_type": "text",
        "id": "2fhs6GZ4qFMx"
      },
      "source": [
        "要执行上述单元格中的代码，请点击选择它，然后按代码左侧的“播放”按钮，或使用键盘快捷键“⌘/Ctrl+Enter”。\n",
        "\n",
        "所有单元格都会修改同一全局状态，因此您通过执行某个单元格定义的变量可用在其他单元格中："
      ]
    },
    {
      "cell_type": "code",
      "metadata": {
        "colab_type": "code",
        "id": "-gE-Ez1qtyIA",
        "outputId": "8d2e4259-4682-4e19-b683-7b9087f28820",
        "colab": {
          "height": 35
        }
      },
      "source": [
        "一周的秒数 = 7 * 一天的秒数\n",
        "一周的秒数"
      ],
      "execution_count": 0,
      "outputs": [
        {
          "output_type": "execute_result",
          "data": {
            "text/plain": [
              "604800"
            ]
          },
          "metadata": {
            "tags": []
          },
          "execution_count": 0
        }
      ]
    },
    {
      "cell_type": "markdown",
      "metadata": {
        "colab_type": "text",
        "id": "-Rh3-Vt9Nev9"
      },
      "source": [
        "## 更多资源\n",
        "\n",
        "要了解如何充分利用 Python、Jupyter、Colaboratory 和相关工具，请参阅以下资源：\n",
        "\n",
        "### 机器学习速成课程\n",
        "以下是可以在 Google 的在线机器学习课程中找到的部分笔记本。请查看[完整课程网站](https://developers.google.com/machine-learning/crash-course/)了解详情。\n",
        "- [Pandas 简介](/notebooks/mlcc/intro_to_pandas.ipynb)\n",
        "- [TensorFlow 编程概念](/notebooks/mlcc/tensorflow_programming_concepts.ipynb)\n",
        "- [使用 TensorFlow 的基本步骤](/notebooks/mlcc/first_steps_with_tensor_flow.ipynb)\n",
        "- [神经网络简介](/notebooks/mlcc/intro_to_neural_nets.ipynb)\n",
        "- [稀疏数据和嵌入简介](/notebooks/mlcc/intro_to_sparse_data_and_embeddings.ipynb)\n",
        "\n",
        "### 机器学习示例：Seedbank\n",
        "\n",
        "要查看 Colaboratory 实现的交互式机器学习分析的端到端示例，请查看[Seedbank](https://research.google.com/seedbank/)项目。\n",
        "\n",
        "一些精选示例：\n",
        "\n",
        "- [Neural Style Transfer](https://research.google.com/seedbank/seed/neural_style_transfer_with_tfkeras): 使用深度学习在图像之间转换风格。\n",
        "- [EZ NSynth](https://research.google.com/seedbank/seed/ez_nsynth): 使用 WaveNet 自动编码器合成音频。\n",
        "- [Fashion MNIST with Keras and TPUs](https://research.google.com/seedbank/seed/fashion_mnist_with_keras_and_tpus): 使用深度学习对时装图像进行分类。\n",
        "- [DeepDream](https://research.google.com/seedbank/seed/deepdream): 根据您自己的照片生成 DeepDream 图像。\n",
        "- [Convolutional VAE](https://research.google.com/seedbank/seed/convolutional_vae): 创建手写数字生成模型。"
      ]
    }
  ]
}